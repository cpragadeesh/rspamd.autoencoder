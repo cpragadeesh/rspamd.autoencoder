{
 "cells": [
  {
   "cell_type": "code",
   "execution_count": 1,
   "metadata": {},
   "outputs": [],
   "source": [
    "import json\n",
    "\n",
    "dataset = json.loads(open(\"../data/processed/dataset.txt\", 'r').read())"
   ]
  },
  {
   "cell_type": "code",
   "execution_count": 2,
   "metadata": {},
   "outputs": [],
   "source": [
    "import numpy as np\n",
    "\n",
    "dataset = np.array(dataset)\n",
    "\n",
    "X = dataset[:, :-1]\n",
    "y = dataset[:, -1]"
   ]
  },
  {
   "cell_type": "code",
   "execution_count": 3,
   "metadata": {},
   "outputs": [
    {
     "name": "stdout",
     "output_type": "stream",
     "text": [
      "Number of emails: 3048\n",
      "Number of spam: 1397\n",
      "Number of ham: 1651\n",
      "Number of unique symbols: 526\n"
     ]
    }
   ],
   "source": [
    "print \"Number of emails: \" + str(y.shape[0])\n",
    "print \"Number of spam: \" + str(y[y==1].shape[0])\n",
    "print \"Number of ham: \" + str(y[y==-1].shape[0])\n",
    "\n",
    "print \"Number of unique symbols: \" + str(X.shape[1])"
   ]
  },
  {
   "cell_type": "code",
   "execution_count": 4,
   "metadata": {},
   "outputs": [
    {
     "name": "stdout",
     "output_type": "stream",
     "text": [
      "Training samples: 2286\n",
      "Testing samples: 762\n"
     ]
    }
   ],
   "source": [
    "from sklearn.model_selection import train_test_split\n",
    "\n",
    "X_train, X_test, y_train, y_test = train_test_split(X, y, stratify=y,\n",
    "                                                    random_state=1)\n",
    "\n",
    "print \"Training samples: \" + str(X_train.shape[0])\n",
    "print \"Testing samples: \" + str(X_test.shape[0])"
   ]
  },
  {
   "cell_type": "code",
   "execution_count": 5,
   "metadata": {},
   "outputs": [
    {
     "name": "stdout",
     "output_type": "stream",
     "text": [
      "Iteration 1, loss = 0.38116405\n",
      "Iteration 2, loss = 0.17824516\n",
      "Iteration 3, loss = 0.13713964\n",
      "Iteration 4, loss = 0.11835570\n",
      "Iteration 5, loss = 0.10618238\n",
      "Iteration 6, loss = 0.09536174\n",
      "Iteration 7, loss = 0.08957161\n",
      "Iteration 8, loss = 0.08311187\n",
      "Iteration 9, loss = 0.07624130\n",
      "Iteration 10, loss = 0.07081928\n",
      "Iteration 11, loss = 0.06607982\n",
      "Iteration 12, loss = 0.06085087\n",
      "Iteration 13, loss = 0.05743992\n",
      "Iteration 14, loss = 0.05417828\n",
      "Iteration 15, loss = 0.05249513\n",
      "Iteration 16, loss = 0.04660395\n",
      "Iteration 17, loss = 0.04451961\n",
      "Iteration 18, loss = 0.04104377\n",
      "Iteration 19, loss = 0.03983098\n",
      "Iteration 20, loss = 0.03700226\n",
      "Iteration 21, loss = 0.03394259\n",
      "Iteration 22, loss = 0.03268548\n",
      "Iteration 23, loss = 0.03113777\n",
      "Iteration 24, loss = 0.02976291\n",
      "Iteration 25, loss = 0.02845253\n",
      "Iteration 26, loss = 0.02667073\n",
      "Iteration 27, loss = 0.02487039\n",
      "Iteration 28, loss = 0.02387646\n",
      "Iteration 29, loss = 0.02294186\n",
      "Iteration 30, loss = 0.02180129\n",
      "Iteration 31, loss = 0.02109035\n",
      "Iteration 32, loss = 0.02131814\n",
      "Iteration 33, loss = 0.01984093\n",
      "Iteration 34, loss = 0.02034618\n",
      "Iteration 35, loss = 0.01857204\n",
      "Iteration 36, loss = 0.01824650\n",
      "Iteration 37, loss = 0.01814727\n",
      "Iteration 38, loss = 0.01739362\n",
      "Iteration 39, loss = 0.01651350\n",
      "Iteration 40, loss = 0.01571784\n",
      "Iteration 41, loss = 0.01548405\n",
      "Iteration 42, loss = 0.01606867\n",
      "Iteration 43, loss = 0.01438586\n",
      "Iteration 44, loss = 0.01450306\n",
      "Iteration 45, loss = 0.01425650\n",
      "Iteration 46, loss = 0.01372134\n",
      "Iteration 47, loss = 0.01375177\n",
      "Iteration 48, loss = 0.01234783\n",
      "Iteration 49, loss = 0.01276706\n",
      "Iteration 50, loss = 0.01266245\n",
      "Iteration 51, loss = 0.01378422\n",
      "Iteration 52, loss = 0.01333288\n",
      "Iteration 53, loss = 0.01223621\n",
      "Iteration 54, loss = 0.01130483\n",
      "Iteration 55, loss = 0.01200243\n",
      "Iteration 56, loss = 0.01164869\n",
      "Iteration 57, loss = 0.01177944\n",
      "Iteration 58, loss = 0.01137157\n",
      "Iteration 59, loss = 0.01170382\n",
      "Iteration 60, loss = 0.01067539\n",
      "Iteration 61, loss = 0.01039507\n",
      "Iteration 62, loss = 0.01019930\n",
      "Iteration 63, loss = 0.01045519\n",
      "Iteration 64, loss = 0.00987584\n",
      "Iteration 65, loss = 0.01016591\n",
      "Iteration 66, loss = 0.01029200\n",
      "Iteration 67, loss = 0.01137204\n",
      "Iteration 68, loss = 0.01040647\n",
      "Iteration 69, loss = 0.00977647\n",
      "Iteration 70, loss = 0.00977506\n",
      "Iteration 71, loss = 0.00942952\n",
      "Iteration 72, loss = 0.00919247\n",
      "Iteration 73, loss = 0.00885113\n",
      "Iteration 74, loss = 0.00901527\n",
      "Iteration 75, loss = 0.00887750\n",
      "Iteration 76, loss = 0.00909251\n",
      "Iteration 77, loss = 0.00878507\n",
      "Iteration 78, loss = 0.00940832\n",
      "Iteration 79, loss = 0.00918317\n",
      "Iteration 80, loss = 0.00998493\n",
      "Iteration 81, loss = 0.00945315\n",
      "Iteration 82, loss = 0.00922530\n",
      "Iteration 83, loss = 0.00871847\n",
      "Iteration 84, loss = 0.00889268\n",
      "Training loss did not improve more than tol=0.000100 for 10 consecutive epochs. Stopping.\n"
     ]
    }
   ],
   "source": [
    "from sklearn.neural_network import MLPClassifier\n",
    "\n",
    "clf = MLPClassifier(hidden_layer_sizes=(500,), activation='relu', solver='adam', batch_size=100, verbose=True).fit(X_train, y_train)"
   ]
  },
  {
   "cell_type": "code",
   "execution_count": 1,
   "metadata": {},
   "outputs": [
    {
     "ename": "NameError",
     "evalue": "name 'clf' is not defined",
     "output_type": "error",
     "traceback": [
      "\u001b[0;31m---------------------------------------------------------------------------\u001b[0m",
      "\u001b[0;31mNameError\u001b[0m                                 Traceback (most recent call last)",
      "\u001b[0;32m<ipython-input-1-dbddd498a973>\u001b[0m in \u001b[0;36m<module>\u001b[0;34m()\u001b[0m\n\u001b[0;32m----> 1\u001b[0;31m \u001b[0my_pred\u001b[0m \u001b[0;34m=\u001b[0m \u001b[0mclf\u001b[0m\u001b[0;34m.\u001b[0m\u001b[0mpredict\u001b[0m\u001b[0;34m(\u001b[0m\u001b[0mX_test\u001b[0m\u001b[0;34m)\u001b[0m\u001b[0;34m\u001b[0m\u001b[0m\n\u001b[0m\u001b[1;32m      2\u001b[0m \u001b[0;34m\u001b[0m\u001b[0m\n\u001b[1;32m      3\u001b[0m \u001b[0;32mfrom\u001b[0m \u001b[0msklearn\u001b[0m\u001b[0;34m.\u001b[0m\u001b[0mmetrics\u001b[0m \u001b[0;32mimport\u001b[0m \u001b[0mconfusion_matrix\u001b[0m\u001b[0;34m\u001b[0m\u001b[0m\n\u001b[1;32m      4\u001b[0m \u001b[0;34m\u001b[0m\u001b[0m\n\u001b[1;32m      5\u001b[0m \u001b[0mtn\u001b[0m\u001b[0;34m,\u001b[0m \u001b[0mfp\u001b[0m\u001b[0;34m,\u001b[0m \u001b[0mfn\u001b[0m\u001b[0;34m,\u001b[0m \u001b[0mtp\u001b[0m \u001b[0;34m=\u001b[0m \u001b[0mconfusion_matrix\u001b[0m\u001b[0;34m(\u001b[0m\u001b[0my_test\u001b[0m\u001b[0;34m,\u001b[0m \u001b[0my_pred\u001b[0m\u001b[0;34m)\u001b[0m\u001b[0;34m.\u001b[0m\u001b[0mravel\u001b[0m\u001b[0;34m(\u001b[0m\u001b[0;34m)\u001b[0m\u001b[0;34m\u001b[0m\u001b[0m\n",
      "\u001b[0;31mNameError\u001b[0m: name 'clf' is not defined"
     ]
    }
   ],
   "source": [
    "y_pred = clf.predict(X_test)\n",
    "\n",
    "from sklearn.metrics import confusion_matrix\n",
    "\n",
    "tn, fp, fn, tp = confusion_matrix(y_test, y_pred).ravel()\n",
    "\n",
    "print \"Number of ham correctly classified: \" + str(tn)\n",
    "print \"Number of spam correctly classified: \" + str(tp)\n",
    "print \"Number of ham incorrectly classified: \" + str(fp)\n",
    "print \"Number of spam incorrectly classified: \" + str(fn)\n",
    "\n",
    "print (\"Precision: \" + str(precision))\n",
    "print (\"Recall: \" + str(recall))\n",
    "print (\"F1-score: \" + str(f1))"
   ]
  },
  {
   "cell_type": "code",
   "execution_count": null,
   "metadata": {},
   "outputs": [],
   "source": []
  }
 ],
 "metadata": {
  "kernelspec": {
   "display_name": "Python 2",
   "language": "python",
   "name": "python2"
  },
  "language_info": {
   "codemirror_mode": {
    "name": "ipython",
    "version": 2
   },
   "file_extension": ".py",
   "mimetype": "text/x-python",
   "name": "python",
   "nbconvert_exporter": "python",
   "pygments_lexer": "ipython2",
   "version": "2.7.16"
  }
 },
 "nbformat": 4,
 "nbformat_minor": 2
}
